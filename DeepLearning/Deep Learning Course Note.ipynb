{
 "cells": [
  {
   "cell_type": "markdown",
   "metadata": {},
   "source": [
    "#Machine Learning (revisited Andrew Ng's [script](http://cs229.stanford.edu/materials.html))\n",
    "##Linear Regression and local weighted version\n",
    "The model should be Y = WX+B. Solution is Least Mean Square to minize sum_i(w_i*x_i-y_i)^2 over w_i and weighted version sum_i(a_i*(w_i*x_i-y_i)^2) where a_i = exp(-(x_i - x_m)^2/r^2). Beside directly computing the with LMS formula, we have a \"updating\" version to search the minimal. For more details please take a look at Andrew's course note.\n",
    "##Logistic Regression\n",
    "Logistic/Sigmoid function 'G' is:"
   ]
  },
  {
   "cell_type": "code",
   "execution_count": 30,
   "metadata": {
    "collapsed": false
   },
   "outputs": [
    {
     "data": {
      "image/png": "[encoded data removed]",
      "text/plain": [
       "<matplotlib.figure.Figure at 0x109e61750>"
      ]
     },
     "metadata": {},
     "output_type": "display_data"
    }
   ],
   "source": [
    "%matplotlib inline\n",
    "import numpy as np\n",
    "import matplotlib.pyplot as plt\n",
    "\n",
    "x = np.arange(-6.0, 6.0, 0.1)\n",
    "plt.plot(x, 1/(1+ np.exp(-x)), linewidth=2)\n",
    "\n",
    "plt.show()"
   ]
  },
  {
   "cell_type": "markdown",
   "metadata": {},
   "source": [
    "Our model is G(WX+B). Solution is complicate, but searching method is similar to \"update\" version of Linear Regression. If we digress the G to be binary function that output either 0 or 1. This model can be called perceptron learning..."
   ]
  },
  {
   "cell_type": "markdown",
   "metadata": {},
   "source": [
    "#Softmax\n",
    "\n",
    "Softmax is a function to map score into probabilities (why we need a map? why doesn't score just output the probabilities?)"
   ]
  },
  {
   "cell_type": "code",
   "execution_count": 31,
   "metadata": {
    "collapsed": false
   },
   "outputs": [
    {
     "name": "stdout",
     "output_type": "stream",
     "text": [
      "[ 0.8360188   0.11314284  0.05083836] and its sum 1.0\n"
     ]
    },
    {
     "data": {
      "image/png": "[encoded data removed]",
      "text/plain": [
       "<matplotlib.figure.Figure at 0x10cd498d0>"
      ]
     },
     "metadata": {},
     "output_type": "display_data"
    }
   ],
   "source": [
    "%matplotlib inline\n",
    "\"\"\"Softmax.\"\"\"\n",
    "\n",
    "scores = [3.0, 1.0, 0.2]\n",
    "\n",
    "import numpy as np\n",
    "\n",
    "def softmax(x):\n",
    "    \"\"\"Compute softmax values for each sets of scores in x.\"\"\"\n",
    "    return np.exp(x)/np.sum(np.exp(x), axis = 0);\n",
    "\n",
    "\n",
    "print(str(softmax(scores)) + ' and its sum ' + str(np.sum(softmax(scores))))\n",
    "\n",
    "# Plot softmax curves\n",
    "import matplotlib.pyplot as plt\n",
    "x = np.arange(-2.0, 6.0, 0.1)\n",
    "scores = np.vstack([x, np.ones_like(x), 0.2 * np.ones_like(x)])\n",
    "# What's np.ones_like(x)\n",
    "#print(np.ones_like(x))\n",
    "#print(scores)\n",
    "\n",
    "plt.plot(x, softmax(scores).T, linewidth=2)\n",
    "# What's this T\n",
    "#print(softmax(scores).T)\n",
    "\n",
    "plt.show()"
   ]
  },
  {
   "cell_type": "markdown",
   "metadata": {},
   "source": [
    "This is to plot all the points after mapped to probability like [-2.0, 1.0, 0.2] [-1.9, 1.0, 0.2] ... To study the behavior of this softmax function we multiply the scores by 10 and 0.1 to see how it will be."
   ]
  },
  {
   "cell_type": "code",
   "execution_count": 32,
   "metadata": {
    "collapsed": false
   },
   "outputs": [
    {
     "name": "stdout",
     "output_type": "stream",
     "text": [
      "[  9.99999998e-01   2.06115362e-09   6.91440009e-13]\n",
      "[ 0.38842275  0.31801365  0.2935636 ]\n"
     ]
    }
   ],
   "source": [
    "print(softmax([x*10 for x in [3.0, 1.0, 0.2]]))\n",
    "print(softmax([x*0.1 for x in [3.0, 1.0, 0.2]]))"
   ]
  },
  {
   "cell_type": "markdown",
   "metadata": {},
   "source": [
    "#One Hot Encoding\n",
    "Quara has an answer that explains a little bit: \n",
    "```\n",
    "One hot encoding transforms:\n",
    "\n",
    "a single variable with n observations and d distinct values, \n",
    "\n",
    "to\n",
    "\n",
    "to d binary variables with n observations each. Each observation indicating the presence (1) or absence (0) of the dth binary variable.\n",
    "\n",
    "e.g. [house, car, tooth, car] becomes \n",
    "[[1,0,0,0],\n",
    "[0,1,0,1],\n",
    "[0,0,1,0]]\n",
    "```\n",
    "#Multinomial Logistic Classification\n",
    "\n",
    "Now we can start to understand the whole picture. X is the input r.v. and Y=WX + B is the output or so-called logits. Softmax S can normalize Y into S(Y) or [0.0, 1.0] and this is the labeled by 1-hot encoding. Our optimization will minimize the D(S(WX+B), L) with W* and B*. Note here X and L is r.v.. You can get a few sample and use these samples to compute W* and B*. This algorithm is called Multinomial Logistic Classification. "
   ]
  }
 ],
 "metadata": {
  "kernelspec": {
   "display_name": "Python 2",
   "language": "python",
   "name": "python2"
  },
  "language_info": {
   "codemirror_mode": {
    "name": "ipython",
    "version": 2
   },
   "file_extension": ".py",
   "mimetype": "text/x-python",
   "name": "python",
   "nbconvert_exporter": "python",
   "pygments_lexer": "ipython2",
   "version": "2.7.11"
  }
 },
 "nbformat": 4,
 "nbformat_minor": 0
}
